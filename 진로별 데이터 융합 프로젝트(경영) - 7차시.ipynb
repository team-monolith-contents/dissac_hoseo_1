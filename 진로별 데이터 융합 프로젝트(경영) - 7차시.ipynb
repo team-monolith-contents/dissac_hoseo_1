{
 "cells": [
  {
   "cell_type": "markdown",
   "id": "7a89a294-df29-431f-8b5a-22e72c1e81e2",
   "metadata": {},
   "source": [
    "<div style=\"padding: 15px; border: 5px solid transparent; border-color: transparent; margin-bottom: 20px; border-radius: 4px; color: #3c763d; background-color: #dff0d8; border-color: #d6e9c6; font-weight: bold;\">\n",
    "    <br><br>\n",
    "    <div style=\"font-weight: bold; font-size: 40px\">진로별 데이터 융합 프로젝트(경영)</div>\n",
    "    <div style=\"font-weight: bold; font-size: 20px\">(7) 프로젝트 : 데이터 분석을 활용해 공약 설정하기</div>\n",
    "    <hr style=\"width:80%;text-align:left;margin-left:0;border:0.5px solid green\">\n",
    "    <br>\n",
    "    &#x2022; 데이터를 탐색하고 필요한 데이터를 찾을 수 있다.  <br>\n",
    "    &#x2022; 데이터를 분석할 수 있다. <br>\n",
    "    &#x2022; 데이터를 시각화할 수 있다.<br>\n",
    "</div>"
   ]
  },
  {
   "cell_type": "markdown",
   "id": "a791007c-70a7-40b2-86d2-e28b69c89114",
   "metadata": {},
   "source": [
    "<div style=\"padding: 15px; border: 5px solid transparent; border-color: transparent; margin-bottom: 20px; border-radius: 4px; color: #3c763d; border-color: #d6e9c6; font-weight: bold;\">\n",
    "<h2 style='font-weight: bold'>0. 프로젝트 개요</h2>\n",
    "</div> "
   ]
  },
  {
   "cell_type": "markdown",
   "id": "b2123eca-3969-4b4b-bf9c-5a777efe7be9",
   "metadata": {},
   "source": [
    "정치인이 된 영희는 지역구 선거를 나가려고 합니다. 영희의 핵심 공약은 \"공공 와이파이 설치하기\"입니다.   \n",
    "영희가 \"공공 와이파이 설치하기\" 공약으로 당선될 확률을 높이기 위해서는 공공 와이파이가 적은 지역에 기기를 설치해야 합니다.  \n",
    "따라서 영희는 공공 와이파이가 가장 적은 지역구에 출마하여 자신의 공약을 효과적으로 홍보하고 당선 확률을 올리고자 합니다.     \n",
    "영희가 자신이 출마할 지역구를 고를 수 있도록 도와줍니다. \n",
    "\n",
    "![선거 출마 데이터 분석_2.jpg](attachment:99ebf950-f6f6-42af-949a-07fae878b271.jpg)"
   ]
  },
  {
   "cell_type": "markdown",
   "id": "c7cb8624-ff04-465f-bd8a-ea2eb258eb14",
   "metadata": {},
   "source": [
    "<div style=\"padding: 15px; border: 5px solid transparent; border-color: transparent; margin-bottom: 20px; border-radius: 4px; color: #3c763d; border-color: #d6e9c6; font-weight: bold;\">\n",
    "<h2 style='font-weight: bold'>1. 데이터셋 불러오기</h2>\n",
    "</div> "
   ]
  },
  {
   "cell_type": "markdown",
   "id": "3f9a3927-43e9-485f-ab99-e1ff9987ae33",
   "metadata": {},
   "source": [
    "### **1) 데이터셋 불러오기**\n",
    "pandas 패키지를 이용해 다운로드한 데이터를 불러와야 합니다. 우선 pandas 라이브러리를 불러와 봅시다.  \n",
    "주의! 아래 패키지를 반드시 설치해주세요."
   ]
  },
  {
   "cell_type": "code",
   "execution_count": 1,
   "id": "3d9effc3-5577-43af-85ec-cce66e97ce35",
   "metadata": {
    "tags": []
   },
   "outputs": [],
   "source": [
    "# 실행해주세요!\n",
    "import pandas as pd"
   ]
  },
  {
   "cell_type": "markdown",
   "id": "f97d4e9e-e7bf-4ec5-a7e9-14f22f32f687",
   "metadata": {},
   "source": [
    "csv를 확장자로 가지는 csv 파일은 pandas에 있는 read_csv 함수를 사용하면 DataFrame으로 불러올 수 있습니다. 사용법은 아래와 같습니다.\n",
    "* `pd.read_csv(파일 경로)` : 파일경로에 위치한 csv 파일을 읽어 DataFrame으로 변경해줍니다."
   ]
  },
  {
   "cell_type": "code",
   "execution_count": 2,
   "id": "d29aef97-69d5-4bcf-9815-05f58a895270",
   "metadata": {
    "tags": []
   },
   "outputs": [
    {
     "data": {
      "text/html": [
       "<div>\n",
       "<style scoped>\n",
       "    .dataframe tbody tr th:only-of-type {\n",
       "        vertical-align: middle;\n",
       "    }\n",
       "\n",
       "    .dataframe tbody tr th {\n",
       "        vertical-align: top;\n",
       "    }\n",
       "\n",
       "    .dataframe thead th {\n",
       "        text-align: right;\n",
       "    }\n",
       "</style>\n",
       "<table border=\"1\" class=\"dataframe\">\n",
       "  <thead>\n",
       "    <tr style=\"text-align: right;\">\n",
       "      <th></th>\n",
       "      <th>번호</th>\n",
       "      <th>설치장소명</th>\n",
       "      <th>설치장소상세</th>\n",
       "      <th>설치시도명</th>\n",
       "      <th>설치시군구명</th>\n",
       "      <th>설치시설구분</th>\n",
       "      <th>서비스제공사명</th>\n",
       "      <th>와이파이SSID</th>\n",
       "      <th>설치연월</th>\n",
       "      <th>소재지도로명주소</th>\n",
       "      <th>소재지지번주소</th>\n",
       "      <th>관리기관명</th>\n",
       "      <th>관리기관전화번호</th>\n",
       "      <th>WGS84위도</th>\n",
       "      <th>WGS84경도</th>\n",
       "      <th>데이터기준일자</th>\n",
       "    </tr>\n",
       "  </thead>\n",
       "  <tbody>\n",
       "    <tr>\n",
       "      <th>0</th>\n",
       "      <td>1</td>\n",
       "      <td>대산적십자사광주전남지사</td>\n",
       "      <td>사무실</td>\n",
       "      <td>광주광역시</td>\n",
       "      <td>북구</td>\n",
       "      <td>서민·복지시설</td>\n",
       "      <td>북구</td>\n",
       "      <td>Public wifi free</td>\n",
       "      <td>NaN</td>\n",
       "      <td>광주광역시 북구 매곡로 117</td>\n",
       "      <td>광주광역시 북구 매곡동 256</td>\n",
       "      <td>광주광역시 북구청</td>\n",
       "      <td>062-410-6912</td>\n",
       "      <td>35.195136</td>\n",
       "      <td>126.889889</td>\n",
       "      <td>2020-06-30</td>\n",
       "    </tr>\n",
       "    <tr>\n",
       "      <th>1</th>\n",
       "      <td>2</td>\n",
       "      <td>용봉청소년문화의집</td>\n",
       "      <td>사무실</td>\n",
       "      <td>광주광역시</td>\n",
       "      <td>북구</td>\n",
       "      <td>서민·복지시설</td>\n",
       "      <td>북구</td>\n",
       "      <td>Public wifi free</td>\n",
       "      <td>NaN</td>\n",
       "      <td>광주광역시 북구 비엔날레로 135</td>\n",
       "      <td>광주광역시 북구 용봉동 산 143</td>\n",
       "      <td>광주광역시 북구청</td>\n",
       "      <td>062-410-6912</td>\n",
       "      <td>35.183905</td>\n",
       "      <td>126.891552</td>\n",
       "      <td>2020-06-30</td>\n",
       "    </tr>\n",
       "    <tr>\n",
       "      <th>2</th>\n",
       "      <td>3</td>\n",
       "      <td>매곡동 주민센터</td>\n",
       "      <td>동주민센터내</td>\n",
       "      <td>광주광역시</td>\n",
       "      <td>북구</td>\n",
       "      <td>관공서</td>\n",
       "      <td>북구</td>\n",
       "      <td>Public wifi free</td>\n",
       "      <td>NaN</td>\n",
       "      <td>광주광역시 북구 매곡로69번길 25(매곡동)</td>\n",
       "      <td>광주광역시 북구 매곡동 80</td>\n",
       "      <td>광주광역시 북구청</td>\n",
       "      <td>062-410-6668</td>\n",
       "      <td>35.189635</td>\n",
       "      <td>126.892150</td>\n",
       "      <td>2020-06-30</td>\n",
       "    </tr>\n",
       "    <tr>\n",
       "      <th>3</th>\n",
       "      <td>4</td>\n",
       "      <td>풍향지역아동센터</td>\n",
       "      <td>사무실</td>\n",
       "      <td>광주광역시</td>\n",
       "      <td>북구</td>\n",
       "      <td>서민·복지시설</td>\n",
       "      <td>SKT</td>\n",
       "      <td>Public wifi free</td>\n",
       "      <td>NaN</td>\n",
       "      <td>광주광역시 북구 두방길1-1(풍향동)</td>\n",
       "      <td>광주광역시 북구 풍향동 533-17</td>\n",
       "      <td>광주광역시 북구청</td>\n",
       "      <td>062-410-6935</td>\n",
       "      <td>35.166426</td>\n",
       "      <td>126.921604</td>\n",
       "      <td>2020-06-30</td>\n",
       "    </tr>\n",
       "    <tr>\n",
       "      <th>4</th>\n",
       "      <td>5</td>\n",
       "      <td>은총지역아동센터</td>\n",
       "      <td>사무실</td>\n",
       "      <td>광주광역시</td>\n",
       "      <td>북구</td>\n",
       "      <td>서민·복지시설</td>\n",
       "      <td>SKT</td>\n",
       "      <td>Public wifi free</td>\n",
       "      <td>NaN</td>\n",
       "      <td>광주광역시 북구 무등로 12(임동)</td>\n",
       "      <td>광주광역시 북구 임동 405</td>\n",
       "      <td>광주광역시 북구청</td>\n",
       "      <td>062-410-6935</td>\n",
       "      <td>35.170313</td>\n",
       "      <td>126.885806</td>\n",
       "      <td>2020-06-30</td>\n",
       "    </tr>\n",
       "    <tr>\n",
       "      <th>...</th>\n",
       "      <td>...</td>\n",
       "      <td>...</td>\n",
       "      <td>...</td>\n",
       "      <td>...</td>\n",
       "      <td>...</td>\n",
       "      <td>...</td>\n",
       "      <td>...</td>\n",
       "      <td>...</td>\n",
       "      <td>...</td>\n",
       "      <td>...</td>\n",
       "      <td>...</td>\n",
       "      <td>...</td>\n",
       "      <td>...</td>\n",
       "      <td>...</td>\n",
       "      <td>...</td>\n",
       "      <td>...</td>\n",
       "    </tr>\n",
       "    <tr>\n",
       "      <th>1507</th>\n",
       "      <td>1508</td>\n",
       "      <td>운천어린이공원</td>\n",
       "      <td>운천어린이공원</td>\n",
       "      <td>광주광역시</td>\n",
       "      <td>서구</td>\n",
       "      <td>기타</td>\n",
       "      <td>KT</td>\n",
       "      <td>NaN</td>\n",
       "      <td>NaN</td>\n",
       "      <td>광주광역시 서구 계수로59번길 4-9, 유촌어린이공원 1호 (쌍촌동)</td>\n",
       "      <td>NaN</td>\n",
       "      <td>광주광역시청</td>\n",
       "      <td>062-613-3022</td>\n",
       "      <td>35.160863</td>\n",
       "      <td>126.857787</td>\n",
       "      <td>2022-06-17</td>\n",
       "    </tr>\n",
       "    <tr>\n",
       "      <th>1508</th>\n",
       "      <td>1509</td>\n",
       "      <td>원마륵어린이공원</td>\n",
       "      <td>원마륵어린이공원</td>\n",
       "      <td>광주광역시</td>\n",
       "      <td>서구</td>\n",
       "      <td>기타</td>\n",
       "      <td>KT</td>\n",
       "      <td>NaN</td>\n",
       "      <td>NaN</td>\n",
       "      <td>광주광역시 서구 상무공원로 142, 장수어린이공원 2호 (치평동)</td>\n",
       "      <td>NaN</td>\n",
       "      <td>광주광역시청</td>\n",
       "      <td>062-613-3022</td>\n",
       "      <td>35.157148</td>\n",
       "      <td>126.843395</td>\n",
       "      <td>2022-06-17</td>\n",
       "    </tr>\n",
       "    <tr>\n",
       "      <th>1509</th>\n",
       "      <td>1510</td>\n",
       "      <td>유촌어린이공원1</td>\n",
       "      <td>유촌어린이공원1</td>\n",
       "      <td>광주광역시</td>\n",
       "      <td>서구</td>\n",
       "      <td>기타</td>\n",
       "      <td>KT</td>\n",
       "      <td>NaN</td>\n",
       "      <td>NaN</td>\n",
       "      <td>광주광역시 서구 상무대로 1012, 잿등 2312호 버스정류장(화정동)</td>\n",
       "      <td>NaN</td>\n",
       "      <td>광주광역시청</td>\n",
       "      <td>062-613-3022</td>\n",
       "      <td>35.151402</td>\n",
       "      <td>126.872659</td>\n",
       "      <td>2022-06-17</td>\n",
       "    </tr>\n",
       "    <tr>\n",
       "      <th>1510</th>\n",
       "      <td>1511</td>\n",
       "      <td>장수어린이공원2</td>\n",
       "      <td>장수어린이공원2</td>\n",
       "      <td>광주광역시</td>\n",
       "      <td>서구</td>\n",
       "      <td>기타</td>\n",
       "      <td>KT</td>\n",
       "      <td>NaN</td>\n",
       "      <td>NaN</td>\n",
       "      <td>광주광역시 서구 매월동 513-1 전평호수공원2</td>\n",
       "      <td>NaN</td>\n",
       "      <td>광주광역시청</td>\n",
       "      <td>062-613-3022</td>\n",
       "      <td>35.114385</td>\n",
       "      <td>126.848936</td>\n",
       "      <td>2022-06-17</td>\n",
       "    </tr>\n",
       "    <tr>\n",
       "      <th>1511</th>\n",
       "      <td>1512</td>\n",
       "      <td>잿등</td>\n",
       "      <td>잿등</td>\n",
       "      <td>광주광역시</td>\n",
       "      <td>서구</td>\n",
       "      <td>교통시설</td>\n",
       "      <td>KT</td>\n",
       "      <td>NaN</td>\n",
       "      <td>NaN</td>\n",
       "      <td>광주광역시 서구 화정동 1081 주동공원</td>\n",
       "      <td>NaN</td>\n",
       "      <td>광주광역시청</td>\n",
       "      <td>062-613-3022</td>\n",
       "      <td>35.140967</td>\n",
       "      <td>126.884654</td>\n",
       "      <td>2022-06-17</td>\n",
       "    </tr>\n",
       "  </tbody>\n",
       "</table>\n",
       "<p>1512 rows × 16 columns</p>\n",
       "</div>"
      ],
      "text/plain": [
       "        번호         설치장소명    설치장소상세  설치시도명 설치시군구명   설치시설구분 서비스제공사명  \\\n",
       "0        1  대산적십자사광주전남지사       사무실  광주광역시     북구  서민·복지시설      북구   \n",
       "1        2     용봉청소년문화의집       사무실  광주광역시     북구  서민·복지시설      북구   \n",
       "2        3      매곡동 주민센터    동주민센터내  광주광역시     북구      관공서      북구   \n",
       "3        4      풍향지역아동센터       사무실  광주광역시     북구  서민·복지시설     SKT   \n",
       "4        5      은총지역아동센터       사무실  광주광역시     북구  서민·복지시설     SKT   \n",
       "...    ...           ...       ...    ...    ...      ...     ...   \n",
       "1507  1508       운천어린이공원   운천어린이공원  광주광역시     서구       기타      KT   \n",
       "1508  1509      원마륵어린이공원  원마륵어린이공원  광주광역시     서구       기타      KT   \n",
       "1509  1510      유촌어린이공원1  유촌어린이공원1  광주광역시     서구       기타      KT   \n",
       "1510  1511      장수어린이공원2  장수어린이공원2  광주광역시     서구       기타      KT   \n",
       "1511  1512            잿등        잿등  광주광역시     서구     교통시설      KT   \n",
       "\n",
       "              와이파이SSID 설치연월                                 소재지도로명주소  \\\n",
       "0     Public wifi free  NaN                         광주광역시 북구 매곡로 117   \n",
       "1     Public wifi free  NaN                       광주광역시 북구 비엔날레로 135   \n",
       "2     Public wifi free  NaN                 광주광역시 북구 매곡로69번길 25(매곡동)   \n",
       "3     Public wifi free  NaN                     광주광역시 북구 두방길1-1(풍향동)   \n",
       "4     Public wifi free  NaN                      광주광역시 북구 무등로 12(임동)   \n",
       "...                ...  ...                                      ...   \n",
       "1507               NaN  NaN   광주광역시 서구 계수로59번길 4-9, 유촌어린이공원 1호 (쌍촌동)   \n",
       "1508               NaN  NaN     광주광역시 서구 상무공원로 142, 장수어린이공원 2호 (치평동)   \n",
       "1509               NaN  NaN  광주광역시 서구 상무대로 1012, 잿등 2312호 버스정류장(화정동)   \n",
       "1510               NaN  NaN               광주광역시 서구 매월동 513-1 전평호수공원2   \n",
       "1511               NaN  NaN                   광주광역시 서구 화정동 1081 주동공원   \n",
       "\n",
       "                  소재지지번주소      관리기관명      관리기관전화번호    WGS84위도     WGS84경도  \\\n",
       "0        광주광역시 북구 매곡동 256  광주광역시 북구청  062-410-6912  35.195136  126.889889   \n",
       "1      광주광역시 북구 용봉동 산 143  광주광역시 북구청  062-410-6912  35.183905  126.891552   \n",
       "2         광주광역시 북구 매곡동 80  광주광역시 북구청  062-410-6668  35.189635  126.892150   \n",
       "3     광주광역시 북구 풍향동 533-17  광주광역시 북구청  062-410-6935  35.166426  126.921604   \n",
       "4         광주광역시 북구 임동 405  광주광역시 북구청  062-410-6935  35.170313  126.885806   \n",
       "...                   ...        ...           ...        ...         ...   \n",
       "1507                  NaN     광주광역시청  062-613-3022  35.160863  126.857787   \n",
       "1508                  NaN     광주광역시청  062-613-3022  35.157148  126.843395   \n",
       "1509                  NaN     광주광역시청  062-613-3022  35.151402  126.872659   \n",
       "1510                  NaN     광주광역시청  062-613-3022  35.114385  126.848936   \n",
       "1511                  NaN     광주광역시청  062-613-3022  35.140967  126.884654   \n",
       "\n",
       "         데이터기준일자  \n",
       "0     2020-06-30  \n",
       "1     2020-06-30  \n",
       "2     2020-06-30  \n",
       "3     2020-06-30  \n",
       "4     2020-06-30  \n",
       "...          ...  \n",
       "1507  2022-06-17  \n",
       "1508  2022-06-17  \n",
       "1509  2022-06-17  \n",
       "1510  2022-06-17  \n",
       "1511  2022-06-17  \n",
       "\n",
       "[1512 rows x 16 columns]"
      ]
     },
     "execution_count": 2,
     "metadata": {},
     "output_type": "execute_result"
    }
   ],
   "source": [
    "df = pd.read_csv(\"https://tmn-bucket-materials-all.s3.ap-northeast-2.amazonaws.com/data/free_wifi.csv\")\n",
    "df"
   ]
  },
  {
   "cell_type": "markdown",
   "id": "46651c60-a3ec-457e-99f5-22db74b33fc5",
   "metadata": {},
   "source": [
    "DataFrame의 초기 5개 열을 보여주는 `df.head()` 함수를 사용해서 데이터가 제대로 불러와졌는지 확인합니다."
   ]
  },
  {
   "cell_type": "code",
   "execution_count": 3,
   "id": "e73398e7-4d38-4036-80e8-c36e66d99176",
   "metadata": {
    "tags": []
   },
   "outputs": [
    {
     "data": {
      "text/html": [
       "<div>\n",
       "<style scoped>\n",
       "    .dataframe tbody tr th:only-of-type {\n",
       "        vertical-align: middle;\n",
       "    }\n",
       "\n",
       "    .dataframe tbody tr th {\n",
       "        vertical-align: top;\n",
       "    }\n",
       "\n",
       "    .dataframe thead th {\n",
       "        text-align: right;\n",
       "    }\n",
       "</style>\n",
       "<table border=\"1\" class=\"dataframe\">\n",
       "  <thead>\n",
       "    <tr style=\"text-align: right;\">\n",
       "      <th></th>\n",
       "      <th>번호</th>\n",
       "      <th>설치장소명</th>\n",
       "      <th>설치장소상세</th>\n",
       "      <th>설치시도명</th>\n",
       "      <th>설치시군구명</th>\n",
       "      <th>설치시설구분</th>\n",
       "      <th>서비스제공사명</th>\n",
       "      <th>와이파이SSID</th>\n",
       "      <th>설치연월</th>\n",
       "      <th>소재지도로명주소</th>\n",
       "      <th>소재지지번주소</th>\n",
       "      <th>관리기관명</th>\n",
       "      <th>관리기관전화번호</th>\n",
       "      <th>WGS84위도</th>\n",
       "      <th>WGS84경도</th>\n",
       "      <th>데이터기준일자</th>\n",
       "    </tr>\n",
       "  </thead>\n",
       "  <tbody>\n",
       "    <tr>\n",
       "      <th>0</th>\n",
       "      <td>1</td>\n",
       "      <td>대산적십자사광주전남지사</td>\n",
       "      <td>사무실</td>\n",
       "      <td>광주광역시</td>\n",
       "      <td>북구</td>\n",
       "      <td>서민·복지시설</td>\n",
       "      <td>북구</td>\n",
       "      <td>Public wifi free</td>\n",
       "      <td>NaN</td>\n",
       "      <td>광주광역시 북구 매곡로 117</td>\n",
       "      <td>광주광역시 북구 매곡동 256</td>\n",
       "      <td>광주광역시 북구청</td>\n",
       "      <td>062-410-6912</td>\n",
       "      <td>35.195136</td>\n",
       "      <td>126.889889</td>\n",
       "      <td>2020-06-30</td>\n",
       "    </tr>\n",
       "    <tr>\n",
       "      <th>1</th>\n",
       "      <td>2</td>\n",
       "      <td>용봉청소년문화의집</td>\n",
       "      <td>사무실</td>\n",
       "      <td>광주광역시</td>\n",
       "      <td>북구</td>\n",
       "      <td>서민·복지시설</td>\n",
       "      <td>북구</td>\n",
       "      <td>Public wifi free</td>\n",
       "      <td>NaN</td>\n",
       "      <td>광주광역시 북구 비엔날레로 135</td>\n",
       "      <td>광주광역시 북구 용봉동 산 143</td>\n",
       "      <td>광주광역시 북구청</td>\n",
       "      <td>062-410-6912</td>\n",
       "      <td>35.183905</td>\n",
       "      <td>126.891552</td>\n",
       "      <td>2020-06-30</td>\n",
       "    </tr>\n",
       "    <tr>\n",
       "      <th>2</th>\n",
       "      <td>3</td>\n",
       "      <td>매곡동 주민센터</td>\n",
       "      <td>동주민센터내</td>\n",
       "      <td>광주광역시</td>\n",
       "      <td>북구</td>\n",
       "      <td>관공서</td>\n",
       "      <td>북구</td>\n",
       "      <td>Public wifi free</td>\n",
       "      <td>NaN</td>\n",
       "      <td>광주광역시 북구 매곡로69번길 25(매곡동)</td>\n",
       "      <td>광주광역시 북구 매곡동 80</td>\n",
       "      <td>광주광역시 북구청</td>\n",
       "      <td>062-410-6668</td>\n",
       "      <td>35.189635</td>\n",
       "      <td>126.892150</td>\n",
       "      <td>2020-06-30</td>\n",
       "    </tr>\n",
       "    <tr>\n",
       "      <th>3</th>\n",
       "      <td>4</td>\n",
       "      <td>풍향지역아동센터</td>\n",
       "      <td>사무실</td>\n",
       "      <td>광주광역시</td>\n",
       "      <td>북구</td>\n",
       "      <td>서민·복지시설</td>\n",
       "      <td>SKT</td>\n",
       "      <td>Public wifi free</td>\n",
       "      <td>NaN</td>\n",
       "      <td>광주광역시 북구 두방길1-1(풍향동)</td>\n",
       "      <td>광주광역시 북구 풍향동 533-17</td>\n",
       "      <td>광주광역시 북구청</td>\n",
       "      <td>062-410-6935</td>\n",
       "      <td>35.166426</td>\n",
       "      <td>126.921604</td>\n",
       "      <td>2020-06-30</td>\n",
       "    </tr>\n",
       "    <tr>\n",
       "      <th>4</th>\n",
       "      <td>5</td>\n",
       "      <td>은총지역아동센터</td>\n",
       "      <td>사무실</td>\n",
       "      <td>광주광역시</td>\n",
       "      <td>북구</td>\n",
       "      <td>서민·복지시설</td>\n",
       "      <td>SKT</td>\n",
       "      <td>Public wifi free</td>\n",
       "      <td>NaN</td>\n",
       "      <td>광주광역시 북구 무등로 12(임동)</td>\n",
       "      <td>광주광역시 북구 임동 405</td>\n",
       "      <td>광주광역시 북구청</td>\n",
       "      <td>062-410-6935</td>\n",
       "      <td>35.170313</td>\n",
       "      <td>126.885806</td>\n",
       "      <td>2020-06-30</td>\n",
       "    </tr>\n",
       "  </tbody>\n",
       "</table>\n",
       "</div>"
      ],
      "text/plain": [
       "   번호         설치장소명  설치장소상세  설치시도명 설치시군구명   설치시설구분 서비스제공사명          와이파이SSID  \\\n",
       "0   1  대산적십자사광주전남지사     사무실  광주광역시     북구  서민·복지시설      북구  Public wifi free   \n",
       "1   2     용봉청소년문화의집     사무실  광주광역시     북구  서민·복지시설      북구  Public wifi free   \n",
       "2   3      매곡동 주민센터  동주민센터내  광주광역시     북구      관공서      북구  Public wifi free   \n",
       "3   4      풍향지역아동센터     사무실  광주광역시     북구  서민·복지시설     SKT  Public wifi free   \n",
       "4   5      은총지역아동센터     사무실  광주광역시     북구  서민·복지시설     SKT  Public wifi free   \n",
       "\n",
       "  설치연월                  소재지도로명주소              소재지지번주소      관리기관명  \\\n",
       "0  NaN          광주광역시 북구 매곡로 117     광주광역시 북구 매곡동 256  광주광역시 북구청   \n",
       "1  NaN        광주광역시 북구 비엔날레로 135   광주광역시 북구 용봉동 산 143  광주광역시 북구청   \n",
       "2  NaN  광주광역시 북구 매곡로69번길 25(매곡동)      광주광역시 북구 매곡동 80  광주광역시 북구청   \n",
       "3  NaN      광주광역시 북구 두방길1-1(풍향동)  광주광역시 북구 풍향동 533-17  광주광역시 북구청   \n",
       "4  NaN       광주광역시 북구 무등로 12(임동)      광주광역시 북구 임동 405  광주광역시 북구청   \n",
       "\n",
       "       관리기관전화번호    WGS84위도     WGS84경도     데이터기준일자  \n",
       "0  062-410-6912  35.195136  126.889889  2020-06-30  \n",
       "1  062-410-6912  35.183905  126.891552  2020-06-30  \n",
       "2  062-410-6668  35.189635  126.892150  2020-06-30  \n",
       "3  062-410-6935  35.166426  126.921604  2020-06-30  \n",
       "4  062-410-6935  35.170313  126.885806  2020-06-30  "
      ]
     },
     "execution_count": 3,
     "metadata": {},
     "output_type": "execute_result"
    }
   ],
   "source": [
    "df.head()"
   ]
  },
  {
   "cell_type": "markdown",
   "id": "98fb2a58-797e-4bbd-80ab-d6821930ffe7",
   "metadata": {},
   "source": [
    "<div style=\"padding: 15px; border: 5px solid transparent; border-color: transparent; margin-bottom: 20px; border-radius: 4px; color: #3c763d; border-color: #d6e9c6; font-weight: bold;\">\n",
    "<h2 style='font-weight: bold'>2. 데이터 전처리 및 분석</h2>\n",
    "</div> "
   ]
  },
  {
   "cell_type": "markdown",
   "id": "10130132-fd49-425a-9385-01d6a321bfd4",
   "metadata": {},
   "source": [
    "### **1) 데이터 전처리 - 빈 데이터 확인하기**\n",
    "불러온 데이터에는 각 와이파이의 위치 정보가 나와 있습니다.   \n",
    "본격적인 분석을 진행하기 전에 `\"설치시군구명\"`라는 열에서 비어있는 데이터가 있는지 확인해봅시다.\n",
    "* `df.info` 함수를 사용하면 각 열의 이름, 비어있지 않은 값의 개수, 열의 자료형 등 여러가지 정보를 확인할 수 있습니다."
   ]
  },
  {
   "cell_type": "code",
   "execution_count": 4,
   "id": "a450b78a-d1bf-4862-b435-095cc7672be6",
   "metadata": {
    "tags": []
   },
   "outputs": [
    {
     "name": "stdout",
     "output_type": "stream",
     "text": [
      "<class 'pandas.core.frame.DataFrame'>\n",
      "RangeIndex: 1512 entries, 0 to 1511\n",
      "Data columns (total 16 columns):\n",
      " #   Column    Non-Null Count  Dtype  \n",
      "---  ------    --------------  -----  \n",
      " 0   번호        1512 non-null   int64  \n",
      " 1   설치장소명     1512 non-null   object \n",
      " 2   설치장소상세    1512 non-null   object \n",
      " 3   설치시도명     1512 non-null   object \n",
      " 4   설치시군구명    1512 non-null   object \n",
      " 5   설치시설구분    1512 non-null   object \n",
      " 6   서비스제공사명   1512 non-null   object \n",
      " 7   와이파이SSID  493 non-null    object \n",
      " 8   설치연월      172 non-null    object \n",
      " 9   소재지도로명주소  1292 non-null   object \n",
      " 10  소재지지번주소   681 non-null    object \n",
      " 11  관리기관명     1512 non-null   object \n",
      " 12  관리기관전화번호  1512 non-null   object \n",
      " 13  WGS84위도   1512 non-null   float64\n",
      " 14  WGS84경도   1512 non-null   float64\n",
      " 15  데이터기준일자   1512 non-null   object \n",
      "dtypes: float64(2), int64(1), object(13)\n",
      "memory usage: 189.1+ KB\n",
      "None\n"
     ]
    }
   ],
   "source": [
    "print(df.info())"
   ]
  },
  {
   "cell_type": "markdown",
   "id": "c1609f1e-5ea0-48c6-99c5-fac4cdc551ee",
   "metadata": {},
   "source": [
    "### **2) 데이터 분석 - 고유한 값 찾기**\n",
    "현재 데이터의 `\"설치시군구명\"`에는 와이파이가 설치된 장소의 시군구명이 기록되어 있습니다. 해당 시군구명은 어떤 것들이 있는지 확인해봅시다.\n",
    "* `df['열 이름'].unique` 함수를 사용하면 열에 존재하는 고유한 값들을 확인할 수 있습니다\n",
    "\n",
    "\n"
   ]
  },
  {
   "cell_type": "code",
   "execution_count": 5,
   "id": "7809df2b-344d-4967-a5c6-4ffa0938d47c",
   "metadata": {
    "tags": []
   },
   "outputs": [
    {
     "data": {
      "text/plain": [
       "array(['북구', '동구', '남구', '광산구', '서구'], dtype=object)"
      ]
     },
     "execution_count": 5,
     "metadata": {},
     "output_type": "execute_result"
    }
   ],
   "source": [
    "df['설치시군구명'].unique()"
   ]
  },
  {
   "cell_type": "markdown",
   "id": "1a4e5ee5-0f66-4fc1-803c-90ea44b5ca9d",
   "metadata": {},
   "source": [
    "<div style=\"padding: 15px; border: 5px solid transparent; border-color: transparent; margin-bottom: 20px; border-radius: 4px; color: #8a6d3b;  border-color: #faebcc;\">\n",
    "    <div style=\"font-weight: bold; font-size: 20px\">💯 연습문제를 풀어봅시다</div>\n",
    "<a class=\"jcecodle-mk jcecodle-mk__problem-chip\" data-problem-id=\"A_cZFNLXp2g\" href='#jce-judge/open/A_cZFNLXp2g' target='_self'><span>판다스 연습 1 - 고유값 확인하기</span></a>\n",
    "</div>"
   ]
  },
  {
   "cell_type": "markdown",
   "id": "fd12bc24-ea79-4b4d-8c15-1fb81b7956da",
   "metadata": {},
   "source": [
    "### **3) 데이터 분석 - 고유한 값의 개수 새기**\n",
    "위에서 데이터 속 고유한 시군구명의 리스트를 얻을 수 있었습니다.  \n",
    "이제 남은 것은 각 시군구명 별 무료 와이파이 개수를 확인하는 것입니다.    \n",
    "두가지 방법으로 고유한 값의 개수를 확인할 수 있습니다. 그 하나는 반복문을 사용하는 방법이고, 다른 하나는 자체 함수를 사용하는 방법입니다. "
   ]
  },
  {
   "cell_type": "markdown",
   "id": "13b74e90-4ba3-4dc9-87b9-c5b7d45252b6",
   "metadata": {},
   "source": [
    "#### **반복문 사용하기**\n",
    "아래의 절차에 따라 코딩을 해봅시다.\n",
    "1. 고유한 시군구명 리스트로 반복문을 선언합니다.\n",
    "2. 각 반복문마다 데이터프레임에서 해당 시군구명을 가지는 열의 개수를 출력합니다.\n",
    "\n",
    "* `df[df[<column 이름>] == 값]`을 사용하면 그 열의 값이 해당 값인 모든 행을 가져올 수 있습니다.\n",
    "* `len(df)`를 사용하면 df의 길이를 출력할 수 있습니다."
   ]
  },
  {
   "cell_type": "code",
   "execution_count": 6,
   "id": "c06ad944-8b0d-4ee0-8e52-bcaf373b99ee",
   "metadata": {
    "tags": []
   },
   "outputs": [
    {
     "name": "stdout",
     "output_type": "stream",
     "text": [
      "북구 224\n",
      "동구 97\n",
      "남구 172\n",
      "광산구 714\n",
      "서구 305\n"
     ]
    }
   ],
   "source": [
    "areas = list(df['설치시군구명'].unique())  # 고유한 시군구명 리스트를 저장해줍니다. \n",
    "for area in areas:  # 각 시군구명을 순회합니다. \n",
    "    count = len(df[df['설치시군구명'] == area])  # 열의 값이 해당 시군구명인 모든 행의 길이를 count변수에 저장해줍니다. \n",
    "    print(area, count)"
   ]
  },
  {
   "cell_type": "markdown",
   "id": "c65fda0c-b0e1-47d3-bdb9-39105c9745db",
   "metadata": {},
   "source": [
    "#### **자체 함수 사용하기**\n",
    "반복문을 사용하지 않아도 판다스에서 제공하는 자체 함수를 사용하면 손쉽게 열의 개수를 출력할 수 있습니다.  \n",
    "자체 함수를 활용하여 고유한 값의 개수를 출력한 후 위에서 출력한 개수와 같은지 확인해보세요.\n",
    "* `df.groupby(<열 이름>)[<열 이름>].count()`를 사용하면 고유값별 개수를 출력할 수 있습니다."
   ]
  },
  {
   "cell_type": "code",
   "execution_count": 7,
   "id": "b228a631-dc28-476d-8997-249a298853f6",
   "metadata": {
    "tags": []
   },
   "outputs": [
    {
     "data": {
      "text/plain": [
       "설치시군구명\n",
       "광산구    714\n",
       "남구     172\n",
       "동구      97\n",
       "북구     224\n",
       "서구     305\n",
       "Name: 설치시군구명, dtype: int64"
      ]
     },
     "execution_count": 7,
     "metadata": {},
     "output_type": "execute_result"
    }
   ],
   "source": [
    "df.groupby('설치시군구명')['설치시군구명'].count()"
   ]
  },
  {
   "cell_type": "markdown",
   "id": "1b043a38-834c-4aca-9ce0-0e450af525ac",
   "metadata": {},
   "source": [
    "### **4) 데이터 분석 - 최소값 계산하기**\n",
    "앞의 과정에서 시군구마다 가지고 있는 무료 와이파이의 개수를 확인할 수 있었습니다.   \n",
    "이제 시군구 별 와이파이 개수 중 최소개수를 가지는 시군구를 뽑아봅시다.   \n",
    "1. 3.3.2에서 얻은 Series 데이터를 변수에 저장합니다.\n",
    "2. series의 변수 명이 counts일때, `counts[counts == counts.min()]`를 작성하면 counts에서 가장 작은 값을 지니는 열을 가져올 수 있습니다."
   ]
  },
  {
   "cell_type": "code",
   "execution_count": 8,
   "id": "00659574-6d32-40ea-b676-e733b53639fb",
   "metadata": {
    "tags": []
   },
   "outputs": [
    {
     "data": {
      "text/plain": [
       "설치시군구명\n",
       "동구    97\n",
       "Name: 설치시군구명, dtype: int64"
      ]
     },
     "execution_count": 8,
     "metadata": {},
     "output_type": "execute_result"
    }
   ],
   "source": [
    "counts = df.groupby('설치시군구명')['설치시군구명'].count()\n",
    "counts[counts == counts.min()]"
   ]
  },
  {
   "cell_type": "markdown",
   "id": "c5630da4-420b-41d2-8da4-a065b74a55f4",
   "metadata": {},
   "source": [
    "<div style=\"padding: 15px; border: 5px solid transparent; border-color: transparent; margin-bottom: 20px; border-radius: 4px; color: #3c763d; border-color: #d6e9c6; font-weight: bold;\">\n",
    "<h2 style='font-weight: bold'>3. 마무리</h2>\n",
    "</div> "
   ]
  },
  {
   "cell_type": "markdown",
   "id": "6b88dc97-99d1-43d2-b5b0-85c4b8118e98",
   "metadata": {},
   "source": [
    "여러분께 전달받은 데이터를 바탕으로 영희는 해당 시군구에 출마하여 당선될 수 있었습니다.^~^    "
   ]
  },
  {
   "cell_type": "markdown",
   "id": "f7a3ed5a-10c1-4958-9d5b-bc6654a45b46",
   "metadata": {},
   "source": [
    "![선거 출마 데이터 분석_1.jpg](attachment:755c5116-c806-4dd7-80e0-0d1b6dfe8bc5.jpg)"
   ]
  }
 ],
 "metadata": {
  "kernelspec": {
   "display_name": "Python 3 (ipykernel)",
   "language": "python",
   "name": "python3"
  },
  "language_info": {
   "codemirror_mode": {
    "name": "ipython",
    "version": 3
   },
   "file_extension": ".py",
   "mimetype": "text/x-python",
   "name": "python",
   "nbconvert_exporter": "python",
   "pygments_lexer": "ipython3",
   "version": "3.10.12"
  }
 },
 "nbformat": 4,
 "nbformat_minor": 5
}
